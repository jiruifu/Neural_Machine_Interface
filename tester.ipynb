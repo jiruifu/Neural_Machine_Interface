{
 "cells": [
  {
   "cell_type": "code",
   "execution_count": 1,
   "metadata": {},
   "outputs": [],
   "source": [
    "import matplotlib.pyplot as plt\n",
    "import seaborn as sns\n",
    "import joblib\n",
    "import pandas as pd\n"
   ]
  },
  {
   "cell_type": "code",
   "execution_count": 2,
   "metadata": {},
   "outputs": [
    {
     "data": {
      "text/html": [
       "<div>\n",
       "<style scoped>\n",
       "    .dataframe tbody tr th:only-of-type {\n",
       "        vertical-align: middle;\n",
       "    }\n",
       "\n",
       "    .dataframe tbody tr th {\n",
       "        vertical-align: top;\n",
       "    }\n",
       "\n",
       "    .dataframe thead th {\n",
       "        text-align: right;\n",
       "    }\n",
       "</style>\n",
       "<table border=\"1\" class=\"dataframe\">\n",
       "  <thead>\n",
       "    <tr style=\"text-align: right;\">\n",
       "      <th></th>\n",
       "      <th>WS20</th>\n",
       "      <th>WS40</th>\n",
       "      <th>WS80</th>\n",
       "      <th>WS120</th>\n",
       "    </tr>\n",
       "  </thead>\n",
       "  <tbody>\n",
       "    <tr>\n",
       "      <th>0</th>\n",
       "      <td>3.519040</td>\n",
       "      <td>5.422053</td>\n",
       "      <td>4.698442</td>\n",
       "      <td>6.107363</td>\n",
       "    </tr>\n",
       "    <tr>\n",
       "      <th>1</th>\n",
       "      <td>3.529662</td>\n",
       "      <td>4.976985</td>\n",
       "      <td>4.769657</td>\n",
       "      <td>5.851765</td>\n",
       "    </tr>\n",
       "    <tr>\n",
       "      <th>2</th>\n",
       "      <td>3.402778</td>\n",
       "      <td>5.117021</td>\n",
       "      <td>4.693368</td>\n",
       "      <td>5.925264</td>\n",
       "    </tr>\n",
       "    <tr>\n",
       "      <th>3</th>\n",
       "      <td>3.463067</td>\n",
       "      <td>5.229562</td>\n",
       "      <td>4.688446</td>\n",
       "      <td>6.484736</td>\n",
       "    </tr>\n",
       "  </tbody>\n",
       "</table>\n",
       "</div>"
      ],
      "text/plain": [
       "       WS20      WS40      WS80     WS120\n",
       "0  3.519040  5.422053  4.698442  6.107363\n",
       "1  3.529662  4.976985  4.769657  5.851765\n",
       "2  3.402778  5.117021  4.693368  5.925264\n",
       "3  3.463067  5.229562  4.688446  6.484736"
      ]
     },
     "execution_count": 2,
     "metadata": {},
     "output_type": "execute_result"
    }
   ],
   "source": [
    "path = r\"C:\\\\Users\\\\jirui\\\\Documents\\\\GitHub_Local\\\\Neural_Machine_Interface\\\\result.pkl\"\n",
    "result = joblib.load(path)\n",
    "\n",
    "# Extract data from result\n",
    "subject = result[\"meta_data\"][\"subject\"]\n",
    "intensity = result[\"meta_data\"][\"intensity\"]\n",
    "muscle = result[\"meta_data\"][\"muscle\"]\n",
    "\n",
    "pred_speed = result[\"prediction_speeds\"]\n",
    "\n",
    "# Convert prediction_speeds dictionary to DataFrame\n",
    "pred_speed_df = pd.DataFrame.from_dict(pred_speed)\n",
    "\n",
    "pred_speed_df.columns = [\"WS20\", \"WS40\", \"WS80\", \"WS120\"]\n",
    "pred_speed_df.head()\n"
   ]
  }
 ],
 "metadata": {
  "kernelspec": {
   "display_name": "dlnmi",
   "language": "python",
   "name": "python3"
  },
  "language_info": {
   "codemirror_mode": {
    "name": "ipython",
    "version": 3
   },
   "file_extension": ".py",
   "mimetype": "text/x-python",
   "name": "python",
   "nbconvert_exporter": "python",
   "pygments_lexer": "ipython3",
   "version": "3.12.5"
  }
 },
 "nbformat": 4,
 "nbformat_minor": 2
}
